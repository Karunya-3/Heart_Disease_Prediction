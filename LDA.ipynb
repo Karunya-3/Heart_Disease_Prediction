{
 "cells": [
  {
   "cell_type": "code",
   "execution_count": 1,
   "id": "c2b6e610-facf-4650-9971-96d3ee7a25df",
   "metadata": {},
   "outputs": [],
   "source": [
    "import numpy as np\n",
    "import pandas as pd"
   ]
  },
  {
   "cell_type": "code",
   "execution_count": 2,
   "id": "db9dac13-4387-4882-8bd8-3d22c9da865a",
   "metadata": {},
   "outputs": [],
   "source": [
    "documents=['I love programming in Python',\n",
    "       'Python and Java are popular programming languages',\n",
    "       'I enjoy learning new programming languages',\n",
    "       'Machine learning is fascinating',\n",
    "       'Deep learning and neural networks are part of machine learning',\n",
    "       'Natural language processing (NLP) is a branch of artificial intelligence',\n",
    "       'NLP techniques include tokenization, stemming, and lemmatization',\n",
    "       'Supervised learning algorithms include regression and classification',\n",
    "       'Unsupervised learning includes clustering and association',\n",
    "       'Reinforcement learning involves agents learning from their environment']"
   ]
  },
  {
   "cell_type": "code",
   "execution_count": 3,
   "id": "b2768abc-143b-4ede-ade2-ca2e2b2a1d72",
   "metadata": {},
   "outputs": [
    {
     "data": {
      "text/plain": [
       "['I love programming in Python',\n",
       " 'Python and Java are popular programming languages',\n",
       " 'I enjoy learning new programming languages',\n",
       " 'Machine learning is fascinating',\n",
       " 'Deep learning and neural networks are part of machine learning',\n",
       " 'Natural language processing (NLP) is a branch of artificial intelligence',\n",
       " 'NLP techniques include tokenization, stemming, and lemmatization',\n",
       " 'Supervised learning algorithms include regression and classification',\n",
       " 'Unsupervised learning includes clustering and association',\n",
       " 'Reinforcement learning involves agents learning from their environment']"
      ]
     },
     "execution_count": 3,
     "metadata": {},
     "output_type": "execute_result"
    }
   ],
   "source": [
    "documents"
   ]
  },
  {
   "cell_type": "code",
   "execution_count": null,
   "id": "850cd668-4acb-40b4-acce-807f396a04ad",
   "metadata": {},
   "outputs": [],
   "source": [
    "import re \n",
    "from sklearn.feature_extraction.text import ENGLISH_STOP_WORDS\n",
    "\n",
    "def preprocess_text(text):\n",
    "    text=text.lower()\n",
    "    text=re.sub(r\"^\\w\\s\",\"\",text)\n",
    "    "
   ]
  }
 ],
 "metadata": {
  "kernelspec": {
   "display_name": "Python 3 (ipykernel)",
   "language": "python",
   "name": "python3"
  },
  "language_info": {
   "codemirror_mode": {
    "name": "ipython",
    "version": 3
   },
   "file_extension": ".py",
   "mimetype": "text/x-python",
   "name": "python",
   "nbconvert_exporter": "python",
   "pygments_lexer": "ipython3",
   "version": "3.12.1"
  },
  "widgets": {
   "application/vnd.jupyter.widget-state+json": {
    "state": {},
    "version_major": 2,
    "version_minor": 0
   }
  }
 },
 "nbformat": 4,
 "nbformat_minor": 5
}
